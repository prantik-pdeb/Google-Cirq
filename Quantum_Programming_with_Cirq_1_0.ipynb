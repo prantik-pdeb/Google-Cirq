{
  "nbformat": 4,
  "nbformat_minor": 0,
  "metadata": {
    "colab": {
      "name": "Quantum Programming with Cirq 1.0.ipynb",
      "private_outputs": true,
      "provenance": [],
      "collapsed_sections": [],
      "toc_visible": true,
      "authorship_tag": "ABX9TyN4yc27aTdA5b2wgHyxTTxH",
      "include_colab_link": true
    },
    "kernelspec": {
      "name": "python3",
      "display_name": "Python 3"
    },
    "language_info": {
      "name": "python"
    }
  },
  "cells": [
    {
      "cell_type": "markdown",
      "metadata": {
        "id": "view-in-github",
        "colab_type": "text"
      },
      "source": [
        "<a href=\"https://colab.research.google.com/github/prantik-pdeb/Google-Cirq/blob/main/Quantum_Programming_with_Cirq_1_0.ipynb\" target=\"_parent\"><img src=\"https://colab.research.google.com/assets/colab-badge.svg\" alt=\"Open In Colab\"/></a>"
      ]
    },
    {
      "cell_type": "markdown",
      "source": [
        "# 1. Getting started with Cirq 1.0 \n",
        "[[Video Link]](https://www.youtube.com/watch?v=4OQrPHmjpVc)"
      ],
      "metadata": {
        "id": "FO1968f00Itm"
      }
    },
    {
      "cell_type": "code",
      "source": [
        "!pip install --quiet cirq"
      ],
      "metadata": {
        "id": "o99sYRQF0Nhg"
      },
      "execution_count": null,
      "outputs": []
    },
    {
      "cell_type": "code",
      "source": [
        "import cirq\n",
        "\n",
        "# Pick a qubit.\n",
        "qubit = cirq.GridQubit(0, 0)\n",
        "\n",
        "# Create a circuit\n",
        "circuit = cirq.Circuit(\n",
        "    cirq.X(qubit)**0.5,  # Square root of NOT.\n",
        "    cirq.measure(qubit, key='m')  # Measurement.\n",
        ")\n",
        "print(\"Circuit:\")\n",
        "print(circuit)\n",
        "\n",
        "# Simulate the circuit several times.\n",
        "simulator = cirq.Simulator()\n",
        "result = simulator.run(circuit, repetitions=20)\n",
        "print(\"Results:\")\n",
        "print(result)"
      ],
      "metadata": {
        "id": "EgaWIT3AFY2-"
      },
      "execution_count": null,
      "outputs": []
    },
    {
      "cell_type": "markdown",
      "source": [
        "# 2. How to Build a Quantum Circuit with Cirq 1.0\n",
        "[Video Link](https://www.youtube.com/watch?v=MHYZgWmPhbI&t=110s)\n",
        "\n",
        "[Resource(s)](https://quantumai.google/cirq/build/circuits)\n"
      ],
      "metadata": {
        "id": "_u9rIe2KyCDC"
      }
    },
    {
      "cell_type": "markdown",
      "source": [
        "Three ways of creating qubits,\n",
        "\n",
        "*   cirq.LineQubit(), cirq.LineQubit.range()\n",
        "*   cirq.GridQubit(), cirq.GridQubit.rect(), cirq.GridQubit.square()\n",
        "*   cirq.NamedQubit()\n",
        "\n",
        "\n"
      ],
      "metadata": {
        "id": "IF-h2exJJ1gC"
      }
    },
    {
      "cell_type": "code",
      "source": [
        "# Creating qubits \n",
        "\n",
        "# Method-1\n",
        "myqubit0 = cirq.LineQubit(0)\n",
        "myqubit1 = cirq.LineQubit(1)\n",
        "myqubit2 = cirq.LineQubit(2)\n",
        "myqubit3 = cirq.LineQubit(3)\n",
        "myqubit4 = cirq.LineQubit(4)\n",
        "myqubit5 = cirq.LineQubit(5)\n",
        "\n",
        "myqubits = cirq.LineQubit.range(6)\n",
        "print(myqubits)"
      ],
      "metadata": {
        "id": "TSDpYaG2F2rH"
      },
      "execution_count": null,
      "outputs": []
    },
    {
      "cell_type": "code",
      "source": [
        "# Method-2\n",
        "myqubit0 = cirq.GridQubit(0,1)\n",
        "print(myqubit0)\n",
        "\n",
        "myqubit = cirq.GridQubit.rect(rows = 3, cols = 2)\n",
        "print(myqubit)\n",
        "\n",
        "myqubits = cirq.GridQubit.square(3)\n",
        "print(myqubits)"
      ],
      "metadata": {
        "id": "LM_QmKb3HcNu"
      },
      "execution_count": null,
      "outputs": []
    },
    {
      "cell_type": "code",
      "source": [
        "# Method-3\n",
        "myqubit0 = cirq.NamedQubit('x0')\n",
        "myqubit1 = cirq.NamedQubit('x1')\n",
        "myqubit2 = cirq.NamedQubit('x2')\n",
        "myqubit3 = cirq.NamedQubit('x3')\n",
        "print(myqubit0)\n",
        "print(myqubit1)\n",
        "print(myqubit2)\n",
        "print(myqubit3)"
      ],
      "metadata": {
        "id": "I_eX3VKrI-fO"
      },
      "execution_count": null,
      "outputs": []
    },
    {
      "cell_type": "code",
      "source": [
        "# Building Quantum Circuit \n",
        "\n",
        "# Method-1 \n",
        "myqubits = cirq.LineQubit.range(6)\n",
        "mycircuit =  cirq.Circuit()\n",
        "\n",
        "mycircuit.append(cirq.H(myqubits[0]))\n",
        "mycircuit.append(cirq.H(myqubits[1]))\n",
        "mycircuit.append(cirq.H(myqubits[2]))\n",
        "mycircuit.append(cirq.H(myqubits[3]))\n",
        "mycircuit.append(cirq.H(myqubits[4]))\n",
        "mycircuit.append(cirq.H(myqubits[5]))\n",
        "\n",
        "print(mycircuit)"
      ],
      "metadata": {
        "id": "uvoTHEobJmlU"
      },
      "execution_count": null,
      "outputs": []
    },
    {
      "cell_type": "code",
      "source": [
        "# Method-2\n",
        "mycircuit = cirq.Circuit([cirq.H(qubit) for qubit in myqubits])\n",
        "print(mycircuit)"
      ],
      "metadata": {
        "id": "6kxN4wKdLK0d"
      },
      "execution_count": null,
      "outputs": []
    },
    {
      "cell_type": "code",
      "source": [
        "# Method-3 \n",
        "mycircuit = cirq.Circuit(cirq.H.on_each(myqubits))\n",
        "print(mycircuit)"
      ],
      "metadata": {
        "id": "h9D0T-1CLPkV"
      },
      "execution_count": null,
      "outputs": []
    },
    {
      "cell_type": "code",
      "source": [
        "mycircuit = cirq.Circuit(cirq.X(myqubits[5])) #cirq initializes qubit by 0 in default value\n",
        "mycircuit.append(cirq.H.on_each(myqubits))\n",
        "print(mycircuit)"
      ],
      "metadata": {
        "id": "tDkk9tBVMIj_"
      },
      "execution_count": null,
      "outputs": []
    },
    {
      "cell_type": "code",
      "source": [
        "mycircuit = cirq.Circuit()\n",
        "myqubits = cirq.LineQubit.range(6)\n",
        "\n",
        "reset_all_qubits = cirq.Moment([cirq.reset(qubit) for qubit in myqubits])\n",
        "mycircuit.append(reset_all_qubits)\n",
        "\n",
        "setup_detect_qubit = cirq.X(myqubits[-1])\n",
        "mycircuit.append(setup_detect_qubit)\n",
        "\n",
        "H_gates = cirq.Moment(cirq.H.on_each(myqubits))\n",
        "mycircuit.append(H_gates)\n",
        "\n",
        "mycircuit.append([\n",
        "                  cirq.CNOT(myqubits[0], myqubits[5]),\n",
        "                  cirq.CNOT(myqubits[1], myqubits[5]),\n",
        "                  cirq.CNOT(myqubits[4], myqubits[5])\n",
        "])\n",
        "\n",
        "mycircuit.append(H_gates)\n",
        "print(mycircuit)"
      ],
      "metadata": {
        "id": "Q_BbVDpTM7te"
      },
      "execution_count": null,
      "outputs": []
    },
    {
      "cell_type": "code",
      "source": [
        "measure_gates = cirq.Moment([cirq.measure(qubit) for qubit in myqubits])\n",
        "mycircuit.append(measure_gates)\n",
        "print(mycircuit)"
      ],
      "metadata": {
        "id": "V8kfWkfpPywQ"
      },
      "execution_count": null,
      "outputs": []
    },
    {
      "cell_type": "code",
      "source": [
        "sim = cirq.Simulator()\n",
        "result = sim.run(mycircuit)\n",
        "print(result)"
      ],
      "metadata": {
        "id": "cTFWVgxoqIHp"
      },
      "execution_count": null,
      "outputs": []
    },
    {
      "cell_type": "code",
      "source": [
        "from cirq.circuits.moment import Moment\n",
        "cx_pattern = '11001'\n",
        "n = len(cx_pattern)\n",
        "\n",
        "myqubits = cirq.LineQubit.range(n+1)\n",
        "cx_qubits = [myqubits[x] for x in range(n) if cx_pattern[x] == '1']\n",
        "target_qubit = myqubits[-1]\n",
        "\n",
        "mycircuit = cirq.Circuit([\n",
        "    cirq.reset_each(*myqubits),\n",
        "    cirq.X(target_qubit),\n",
        "    cirq.Moment(cirq.H.on_each(myqubits)),\n",
        "    cirq.CNOT.on_each(zip(cx_qubits, [target_qubit]*len(cx_pattern))),\n",
        "    cirq.Moment(cirq.H.on_each(myqubits))\n",
        "])\n",
        "\n",
        "measure_gates = cirq.Moment([cirq.measure(qubit) for qubit in myqubits])\n",
        "mycircuit.append(measure_gates)\n",
        "print(mycircuit)\n",
        "\n",
        "sim = cirq.Simulator()\n",
        "result = sim.run(mycircuit)\n",
        "print(result)"
      ],
      "metadata": {
        "id": "A6DBSCXkp_wd"
      },
      "execution_count": null,
      "outputs": []
    },
    {
      "cell_type": "markdown",
      "source": [
        "#3. How to Create Custom Gates in Cirq \n",
        "[Video Link](https://www.youtube.com/watch?v=H-xYNjEThr0)\n",
        "\n",
        "[Resource(s)](https://quantumai.google/cirq/build/custom_gates)"
      ],
      "metadata": {
        "id": "rU5If3t4x4p_"
      }
    },
    {
      "cell_type": "markdown",
      "source": [
        "### How to apply a unitary matrix "
      ],
      "metadata": {
        "id": "lUKdzMzN4gaG"
      }
    },
    {
      "cell_type": "code",
      "source": [
        "cirq.unitary(cirq.H)"
      ],
      "metadata": {
        "id": "38Fg65nytD7p"
      },
      "execution_count": null,
      "outputs": []
    },
    {
      "cell_type": "code",
      "source": [
        "cirq.unitary(cirq.X)"
      ],
      "metadata": {
        "id": "GDooZi-FyhB3"
      },
      "execution_count": null,
      "outputs": []
    },
    {
      "cell_type": "code",
      "source": [
        "cirq.unitary(cirq.S**(0.5))"
      ],
      "metadata": {
        "id": "Q0Vok7g7ymQG"
      },
      "execution_count": null,
      "outputs": []
    },
    {
      "cell_type": "code",
      "source": [
        "import numpy as np\n",
        "cirq.unitary(cirq.rz(np.pi/2))"
      ],
      "metadata": {
        "id": "qR-8zLH5z25D"
      },
      "execution_count": null,
      "outputs": []
    },
    {
      "cell_type": "markdown",
      "source": [
        "###  Building a gate with an unknown unitary matrix"
      ],
      "metadata": {
        "id": "SpJ2fchX4z9U"
      }
    },
    {
      "cell_type": "code",
      "source": [
        "class MyGate(cirq.Gate):\n",
        "  def __init__(self):\n",
        "    super(MyGate, self)\n",
        "\n",
        "  def _num_qubits_(self):\n",
        "    return 1\n",
        "  \n",
        "  #additional info to build the gate\n",
        "\n",
        "  def _circuit_diagram_info_(self, arg):\n",
        "    return \"MyGate\""
      ],
      "metadata": {
        "id": "OhHpSZKFz_6h"
      },
      "execution_count": null,
      "outputs": []
    },
    {
      "cell_type": "markdown",
      "source": [
        "### Building a gate with a known unitary matrix"
      ],
      "metadata": {
        "id": "k-ulJgoW1LRD"
      }
    },
    {
      "cell_type": "code",
      "source": [
        "class MyGate(cirq.Gate):\n",
        "  def __init__(self):\n",
        "    super(MyGate, self)\n",
        "\n",
        "  def _num_qubits_(self):\n",
        "    return 1\n",
        "  \n",
        "  #additional info to build the gate\n",
        "  def _unitary_(self):\n",
        "    return np.array([[1,0], [0,1j]])\n",
        "\n",
        "  def _circuit_diagram_info_(self,arg):\n",
        "    return \"MyGate\""
      ],
      "metadata": {
        "id": "sQxKQT0L0L8T"
      },
      "execution_count": null,
      "outputs": []
    },
    {
      "cell_type": "code",
      "source": [
        "mygate = MyGate()\n",
        "myqubit = cirq.LineQubit(0)\n",
        "mycircuit = cirq.Circuit([cirq.H(myqubit), mygate(myqubit)])\n",
        "print(mycircuit)"
      ],
      "metadata": {
        "id": "DJEA1B5q2g2P"
      },
      "execution_count": null,
      "outputs": []
    },
    {
      "cell_type": "markdown",
      "source": [
        "### Building a 2-qubit gate with a parameter "
      ],
      "metadata": {
        "id": "YflA6RXMN7dw"
      }
    },
    {
      "cell_type": "code",
      "source": [
        "class MyGate(cirq.Gate):\n",
        "  def __init__(self, k):\n",
        "    super(MyGate, self)\n",
        "    self.k = k\n",
        "\n",
        "  def _num_qubits_(self):\n",
        "    return 2\n",
        "  \n",
        "  #additional info to build the gate\n",
        "\n",
        "  def _unitary_(self):\n",
        "    return np.array([\n",
        "        [1,0,0,0],\n",
        "        [0,1,0,0],\n",
        "        [0,0,1,0],\n",
        "        [0,0,0,np.exp(2*np.pi*1j/(2**self.k))]\n",
        "    ])\n",
        "  def _circuit_diagram_info_(self, arg):\n",
        "    return \"ctrl\", \"target\""
      ],
      "metadata": {
        "id": "KP6Xm_Cd21u3"
      },
      "execution_count": null,
      "outputs": []
    },
    {
      "cell_type": "code",
      "source": [
        "mygate = MyGate(k = 1)\n",
        "\n",
        "myqubits = cirq.LineQubit.range(2)\n",
        "mycircuit = cirq.Circuit(mygate(*myqubits))\n",
        "print(mycircuit)"
      ],
      "metadata": {
        "id": "rt4OoW46O7yc"
      },
      "execution_count": null,
      "outputs": []
    },
    {
      "cell_type": "markdown",
      "source": [
        "### Building from a known set of Gate"
      ],
      "metadata": {
        "id": "2WQqjTci5SJb"
      }
    },
    {
      "cell_type": "code",
      "source": [
        "class MyGate(cirq.Gate):\n",
        "  def __init__(self):\n",
        "    super(MyGate, self)\n",
        "\n",
        "  def _num_qubits_(self):\n",
        "    return 2\n",
        "  \n",
        "  #additional info to build the gate\n",
        "  def _decompose_(self, qubits):\n",
        "    q1, q2 = qubits\n",
        "    return [cirq.CNOT(q1,q2), cirq.CNOT(q2,q1), cirq.CNOT(q1, q2)]\n",
        "\n",
        "  def _circuit_diagram_info_(self, arg):\n",
        "    return \"q1\", \"q2\""
      ],
      "metadata": {
        "id": "ol1hXeObPVJY"
      },
      "execution_count": null,
      "outputs": []
    },
    {
      "cell_type": "code",
      "source": [
        "mygate = MyGate()\n",
        "myqubit = cirq.LineQubit.range(2)\n",
        "mycircuit = cirq.Circuit(mygate(*myqubits))\n",
        "print(mycircuit)"
      ],
      "metadata": {
        "id": "9AbpggSkQREa"
      },
      "execution_count": null,
      "outputs": []
    },
    {
      "cell_type": "code",
      "source": [
        "cirq.unitary(mycircuit)"
      ],
      "metadata": {
        "id": "eksp8h9nQnPR"
      },
      "execution_count": null,
      "outputs": []
    },
    {
      "cell_type": "markdown",
      "source": [
        "#4. Noiseless Simulation\n",
        "\n",
        "[Video Link](https://www.youtube.com/watch?v=uO-9NeBdZ84)\n",
        "\n",
        "[Resource(s)](https://quantumai.google/cirq/simulate/simulation)"
      ],
      "metadata": {
        "id": "3pyqD4NbQ_WD"
      }
    },
    {
      "cell_type": "code",
      "source": [
        "def get_circuit(resets = False, measurements = False):\n",
        "  cx_pattern = '11001'\n",
        "  n = len(cx_pattern)\n",
        "\n",
        "  myqubits = cirq.LineQubit.range(n+1)\n",
        "  cx_qubits = [myqubits[x] for x in range(n) if cx_pattern[x] == '1']\n",
        "  target_qubit = myqubits[-1]\n",
        "\n",
        "  mycircuit = cirq.Circuit()\n",
        "  \n",
        "  if resets:\n",
        "    mycircuit.append([cirq.reset(qubit) for qubit in myqubits]),\n",
        "\n",
        "  mycircuit.append([\n",
        "    cirq.X(myqubits[-1]),\n",
        "    cirq.Moment(cirq.H.on_each(myqubits)),\n",
        "    cirq.CNOT.on_each(zip(cx_qubits, [target_qubit]*len(cx_pattern))),\n",
        "    cirq.Moment(cirq.H.on_each(myqubits))\n",
        "  ])\n",
        "\n",
        "  if measurements:\n",
        "    mycircuit.append(cirq.Moment(cirq.measure(*myqubits[:-1], key = 'meas_qubits')))\n",
        "\n",
        "  return mycircuit"
      ],
      "metadata": {
        "id": "lL3MQPV8RGO1"
      },
      "execution_count": null,
      "outputs": []
    },
    {
      "cell_type": "code",
      "source": [
        "circuit_without_reset_and_measurements = get_circuit()\n",
        "circuit_with_reset_and_measurements = get_circuit(resets = True, measurements = True)\n",
        "print(circuit_without_reset_and_measurements)\n",
        "print(circuit_with_reset_and_measurements)"
      ],
      "metadata": {
        "id": "M3YLdRCQbLhX"
      },
      "execution_count": null,
      "outputs": []
    },
    {
      "cell_type": "markdown",
      "source": [
        "### Method 1: Use Cirq's build-in simulator to see measurement outcomes  "
      ],
      "metadata": {
        "id": "v_0l955Xb-Dp"
      }
    },
    {
      "cell_type": "code",
      "source": [
        "sim = cirq.Simulator()\n",
        "result = sim.run(circuit_with_reset_and_measurements)\n",
        "print(result)"
      ],
      "metadata": {
        "id": "IfCH5iZNbpou"
      },
      "execution_count": null,
      "outputs": []
    },
    {
      "cell_type": "code",
      "source": [
        "result = sim.run(circuit_with_reset_and_measurements, repetitions = 50)\n",
        "print(result)"
      ],
      "metadata": {
        "id": "N7JRzdlUcZ8t"
      },
      "execution_count": null,
      "outputs": []
    },
    {
      "cell_type": "code",
      "source": [
        "cirq.plot_state_histogram(result)"
      ],
      "metadata": {
        "id": "EzoFNNbedCuK"
      },
      "execution_count": null,
      "outputs": []
    },
    {
      "cell_type": "code",
      "source": [
        "def get_binary_list(num_digits):\n",
        "  return[format(x,'b').zfill(num_digits) for x in range(2**num_digits)]\n",
        "get_binary_list(3)"
      ],
      "metadata": {
        "id": "znoZku33dZba"
      },
      "execution_count": null,
      "outputs": []
    },
    {
      "cell_type": "code",
      "source": [
        "cirq.plot_state_histogram(result, tick_label = get_binary_list(5), xlabel = \"measurement outcome\")"
      ],
      "metadata": {
        "id": "o44FzUXNehXV"
      },
      "execution_count": null,
      "outputs": []
    },
    {
      "cell_type": "code",
      "source": [
        "import matplotlib.pyplot as plt\n",
        "myfig, myaxis = plt.subplots(nrows =1, ncols=1, figsize=(25,3))\n",
        "\n",
        "cirq.plot_state_histogram(result, tick_label=get_binary_list(5), xlabel = 'Measurement Outcome', ax = myaxis)"
      ],
      "metadata": {
        "id": "rmHAeXF9e6UK"
      },
      "execution_count": null,
      "outputs": []
    },
    {
      "cell_type": "code",
      "source": [
        "cirq.plot_state_histogram(result, tick_label=get_binary_list(5), \n",
        "                          xlabel = 'Measurement Outcome').tick_params(axis='x', labelrotation=90)"
      ],
      "metadata": {
        "id": "APDjJf5ke6vx"
      },
      "execution_count": null,
      "outputs": []
    },
    {
      "cell_type": "code",
      "source": [
        "nonzeros = result.histogram(key = 'meas_qubits')\n",
        "cirq.plot_state_histogram(nonzeros)"
      ],
      "metadata": {
        "id": "a5u9xaOne6yY"
      },
      "execution_count": null,
      "outputs": []
    },
    {
      "cell_type": "code",
      "source": [
        "int(b'11001',2)"
      ],
      "metadata": {
        "id": "_nfaM5jygwng"
      },
      "execution_count": null,
      "outputs": []
    },
    {
      "cell_type": "markdown",
      "source": [
        "### Method 2: Use qsim to do fast simulations "
      ],
      "metadata": {
        "id": "xU1pkxGtc30g"
      }
    },
    {
      "cell_type": "code",
      "source": [
        "sim = cirq.Simulator()\n",
        "result = sim.run(circuit_with_reset_and_measurements, repetitions = 1000)\n",
        "print(result)"
      ],
      "metadata": {
        "id": "eaa7nG7Xc1fj"
      },
      "execution_count": null,
      "outputs": []
    },
    {
      "cell_type": "code",
      "source": [
        "!pip install --quiet qsimcirq"
      ],
      "metadata": {
        "id": "8KsQhXVRhFgy"
      },
      "execution_count": null,
      "outputs": []
    },
    {
      "cell_type": "code",
      "source": [
        "import qsimcirq\n",
        "\n",
        "sim = qsimcirq.QSimSimulator()\n",
        "result = sim.run(circuit_with_reset_and_measurements, repetitions = 1000)"
      ],
      "metadata": {
        "id": "SgwMIvzih9fH"
      },
      "execution_count": null,
      "outputs": []
    },
    {
      "cell_type": "code",
      "source": [
        "nonzeros = result.histogram(key = 'meas_qubits')\n",
        "cirq.plot_state_histogram(nonzeros)"
      ],
      "metadata": {
        "id": "XpHs8MApiBwH"
      },
      "execution_count": null,
      "outputs": []
    },
    {
      "cell_type": "markdown",
      "source": [
        "### Method 3: Obtain the final statevector using Cirq's simulator qsim"
      ],
      "metadata": {
        "id": "YV3d3H22ifWB"
      }
    },
    {
      "cell_type": "code",
      "source": [
        "sim = cirq.Simulator()\n",
        "\n",
        "result = sim.simulate(circuit_without_reset_and_measurements)\n",
        "print(result)\n",
        "\n"
      ],
      "metadata": {
        "id": "GmaZk8MjiRpv"
      },
      "execution_count": null,
      "outputs": []
    },
    {
      "cell_type": "code",
      "source": [
        "result = sim.simulate_moment_steps(circuit_without_reset_and_measurements)\n",
        "\n",
        "for moment in result:\n",
        "  print(cirq.dirac_notation(moment.state_vector()))"
      ],
      "metadata": {
        "id": "C4aVR_3-iseV"
      },
      "execution_count": null,
      "outputs": []
    },
    {
      "cell_type": "code",
      "source": [
        "sim = qsimcirq.QSimSimulator()\n",
        "result = sim.simulate(circuit_with_reset_and_measurements)\n",
        "print(result)"
      ],
      "metadata": {
        "id": "hqvT7OXqjrv4"
      },
      "execution_count": null,
      "outputs": []
    },
    {
      "cell_type": "markdown",
      "source": [
        "### Method 4: Obtain the unitary matrix corrosponding to a quantum circuit"
      ],
      "metadata": {
        "id": "GYc3FNUEjlGI"
      }
    },
    {
      "cell_type": "code",
      "source": [
        "circuit_without_reset_and_measurements.unitary()"
      ],
      "metadata": {
        "id": "M6BdIYlwjZEs"
      },
      "execution_count": null,
      "outputs": []
    },
    {
      "cell_type": "code",
      "source": [
        "circuit_without_reset_and_measurements.unitary().shape"
      ],
      "metadata": {
        "id": "ZNMBTFChkczy"
      },
      "execution_count": null,
      "outputs": []
    },
    {
      "cell_type": "markdown",
      "source": [
        "#5. Noisy simulation and the QVM \n",
        "[Video Link](https://www.youtube.com/watch?v=uO-9NeBdZ84)\n",
        "\n",
        "[Resource(s)](https://quantumai.google/cirq/simulate/noisy_simulation)\n",
        "\n",
        "\n"
      ],
      "metadata": {
        "id": "MFGpC373lUfI"
      }
    },
    {
      "cell_type": "markdown",
      "source": [
        "###Building a GHZ Circuit "
      ],
      "metadata": {
        "id": "g3lO4Skkl9EG"
      }
    },
    {
      "cell_type": "code",
      "source": [
        "def make_GHZ(num_qubits, measurements = True):\n",
        "  myqubits = cirq.LineQubit.range(num_qubits)\n",
        "  GHZ_circuit = cirq.Circuit([\n",
        "      cirq.Moment([cirq.H(myqubits[0])])\n",
        "  ])\n",
        "\n",
        "  for x in range (num_qubits-1):\n",
        "    GHZ_circuit.append(cirq.CNOT(myqubits[x], myqubits[x+1]))\n",
        "\n",
        "  if measurements:\n",
        "    GHZ_circuit.append(cirq.Moment(cirq.measure_each(*myqubits)))\n",
        "\n",
        "  return GHZ_circuit"
      ],
      "metadata": {
        "id": "UMBrIiWrlcdv"
      },
      "execution_count": null,
      "outputs": []
    },
    {
      "cell_type": "code",
      "source": [
        "GHZ_5q = make_GHZ(5)\n",
        "print(GHZ_5q)"
      ],
      "metadata": {
        "id": "YW2pbLVlnYnj"
      },
      "execution_count": null,
      "outputs": []
    },
    {
      "cell_type": "code",
      "source": [
        "sim = cirq.Simulator()\n",
        "result = sim.run(GHZ_5q, repetitions = 1000)\n",
        "print(result)\n",
        "cirq.plot_state_histogram(result)"
      ],
      "metadata": {
        "id": "SYnK-sR7nnBK"
      },
      "execution_count": null,
      "outputs": []
    },
    {
      "cell_type": "markdown",
      "source": [
        "Noise Channels inherit from cirq.Gate\n",
        "\n",
        "Examples of common noise channels build into cirq:\n",
        "\n",
        "\n",
        "*   cirq.depolarize();     creates a depolarizing channel\n",
        "*   cirq.phase_damp();     creates a phase damping channel\n",
        "*   cirq.bit_flip(),       creates a bit flip channel\n",
        "\n"
      ],
      "metadata": {
        "id": "4U3g6EXNo4rx"
      }
    },
    {
      "cell_type": "markdown",
      "source": [
        "### Noisy simulation with Individual Noise Events"
      ],
      "metadata": {
        "id": "mD3cCRskqR4y"
      }
    },
    {
      "cell_type": "code",
      "source": [
        "def make_GHZ_withbitflip(num_qubits, measurements = True):\n",
        "  myqubits = cirq.LineQubit.range(num_qubits)\n",
        "  GHZ_circuit = cirq.Circuit([\n",
        "      cirq.Moment([cirq.H(myqubits[0])])\n",
        "  ])\n",
        "\n",
        "  for x in range (num_qubits-1):\n",
        "    GHZ_circuit.append([cirq.CNOT(myqubits[x], myqubits[x+1]), cirq.bit_flip(p=0.1)(myqubits[x+1])])\n",
        "\n",
        "  if measurements:\n",
        "    GHZ_circuit.append(cirq.Moment(cirq.measure_each(*myqubits)))\n",
        "\n",
        "  return GHZ_circuit"
      ],
      "metadata": {
        "id": "acFccegvosRa"
      },
      "execution_count": null,
      "outputs": []
    },
    {
      "cell_type": "code",
      "source": [
        "GHZ_5q_withbitflips = make_GHZ_withbitflip(5)\n",
        "print(GHZ_5q_withbitflips)\n",
        "\n",
        "result = sim.run(GHZ_5q_withbitflips, repetitions = 1000)\n",
        "#we are using same default cirq simulator\n",
        "cirq.plot_state_histogram(result)"
      ],
      "metadata": {
        "id": "yg8iqggsrPys"
      },
      "execution_count": null,
      "outputs": []
    },
    {
      "cell_type": "code",
      "source": [
        "myqubits = cirq.LineQubit.range(5)\n",
        "print(myqubits)"
      ],
      "metadata": {
        "id": "ZZ425NsIr6ex"
      },
      "execution_count": null,
      "outputs": []
    },
    {
      "cell_type": "markdown",
      "source": [
        "### Noisy Simulation with a Global Noise Model"
      ],
      "metadata": {
        "id": "sPAlEuw4sn2Y"
      }
    },
    {
      "cell_type": "code",
      "source": [
        "depol_noise_model = cirq.NoiseModel.from_noise_model_like(cirq.depolarize(p = 0.1))"
      ],
      "metadata": {
        "id": "Yzm90pUWsMHs"
      },
      "execution_count": null,
      "outputs": []
    },
    {
      "cell_type": "code",
      "source": [
        "#option 1: depol_noise_model.noisy_operation\n",
        "#option 2: depol_noise_model.noisy_moment\n",
        "#option 3: depol_noise_model.noisy_moments\n",
        "\n",
        "#here, we are using option 3!!\n",
        "\n",
        "GHZ_5q_with_noisemodel = cirq.Circuit(depol_noise_model.noisy_moments(GHZ_5q, system_qubits = myqubits))"
      ],
      "metadata": {
        "id": "3JnQbpFdtAw4"
      },
      "execution_count": null,
      "outputs": []
    },
    {
      "cell_type": "code",
      "source": [
        "depol_noise = cirq.depolarize(p=0.1)\n",
        "GHZ_5q_with_noise = GHZ_5q.with_noise(depol_noise)"
      ],
      "metadata": {
        "id": "KM3gOq9SuDjN"
      },
      "execution_count": null,
      "outputs": []
    },
    {
      "cell_type": "code",
      "source": [
        "print(GHZ_5q_with_noisemodel)\n",
        "print(GHZ_5q_with_noise)"
      ],
      "metadata": {
        "id": "xLESLd3Mubjo"
      },
      "execution_count": null,
      "outputs": []
    },
    {
      "cell_type": "code",
      "source": [
        "result = sim.run(GHZ_5q_with_noisemodel, repetitions = 1000)\n",
        "cirq.plot_state_histogram(result)"
      ],
      "metadata": {
        "id": "kBXSQPqWuk_y"
      },
      "execution_count": null,
      "outputs": []
    },
    {
      "cell_type": "markdown",
      "source": [
        "### Run Circuit on the Qunatum Virtual Machine [Link](https://quantumai.google/quantum-virtual-machine)"
      ],
      "metadata": {
        "id": "Tq7U4939u-JS"
      }
    },
    {
      "cell_type": "code",
      "source": [
        "!pip install --quiet cirq-google\n",
        "import cirq_google as cg\n",
        "\n",
        "!pip install --quiet qsimcirq\n",
        "import qsimcirq"
      ],
      "metadata": {
        "id": "OG4SRnK-u0G6"
      },
      "execution_count": null,
      "outputs": []
    },
    {
      "cell_type": "code",
      "source": [
        "# @title Choose a processor (\"rainbow\" or \"weber\")\n",
        "processor_id = \"rainbow\"  # @param {type:\"string\"}\n",
        "\n",
        "# Instantiate an engine.\n",
        "sim_engine = cg.engine.create_default_noisy_quantum_virtual_machine(\n",
        "    processor_id=processor_id, simulator_class=qsimcirq.QSimSimulator\n",
        ")\n",
        "print(\n",
        "    \"Your quantum virtual machine\",\n",
        "    processor_id,\n",
        "    \"is ready, here is the qubit grid:\",\n",
        "    \"\\n========================\\n\",\n",
        ")\n",
        "print(sim_engine.get_processor(processor_id).get_device())"
      ],
      "metadata": {
        "id": "Pmr1ZXHlva14"
      },
      "execution_count": null,
      "outputs": []
    },
    {
      "cell_type": "code",
      "source": [
        "GHZ_5q_translated = cirq.optimize_for_target_gateset(\n",
        "    GHZ_5q, context = cirq.TransformerContext(deep = True),\n",
        "    gateset= cirq.SqrtIswapTargetGateset(),\n",
        ")\n",
        "#Rainbow's native gateset is Sqrt ISWAP"
      ],
      "metadata": {
        "id": "HgGcYZL5vwaX"
      },
      "execution_count": null,
      "outputs": []
    },
    {
      "cell_type": "code",
      "source": [
        "device_qubit_chain = [\n",
        "    cirq.GridQubit(5,2),\n",
        "    cirq.GridQubit(5,3),\n",
        "    cirq.GridQubit(4,3),\n",
        "    cirq.GridQubit(4,2),\n",
        "    cirq.GridQubit(4,1),\n",
        "]"
      ],
      "metadata": {
        "id": "kySGOJy1w_vH"
      },
      "execution_count": null,
      "outputs": []
    },
    {
      "cell_type": "code",
      "source": [
        "qubit_map = dict(zip(myqubits, device_qubit_chain))\n",
        "GHZ_5q_deviceready = GHZ_5q_translated.transform_qubits(lambda q: qubit_map[q])\n",
        "\n",
        "print(GHZ_5q_deviceready)"
      ],
      "metadata": {
        "id": "ue2UyDjAxlXi"
      },
      "execution_count": null,
      "outputs": []
    },
    {
      "cell_type": "code",
      "source": [
        "# @title Enter the name of your device ready circuit and execute it on the Quantum Virtual Machine\n",
        "import time\n",
        "circuit = GHZ_5q_deviceready  # @param\n",
        "\n",
        "reps = 3000\n",
        "start = time.time()\n",
        "results = sim_engine.get_sampler(processor_id).run(circuit, repetitions=reps)\n",
        "elapsed = time.time() - start\n",
        "\n",
        "print('Circuit successfully executed on your quantum virtual machine', processor_id)\n",
        "print(f'QVM runtime: {elapsed:.04g}s ({reps} reps)')\n",
        "print('You can now print or plot \"results\"')"
      ],
      "metadata": {
        "id": "iBM595kyyEL3"
      },
      "execution_count": null,
      "outputs": []
    },
    {
      "cell_type": "code",
      "source": [
        "cirq.plot_state_histogram(results)"
      ],
      "metadata": {
        "id": "xAkFJzZnyXKT"
      },
      "execution_count": null,
      "outputs": []
    }
  ]
}